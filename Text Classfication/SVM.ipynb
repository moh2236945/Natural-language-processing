{
  "nbformat": 4,
  "nbformat_minor": 0,
  "metadata": {
    "colab": {
      "name": "SVM.ipynb",
      "provenance": []
    },
    "kernelspec": {
      "name": "python3",
      "display_name": "Python 3"
    }
  },
  "cells": [
    {
      "cell_type": "code",
      "metadata": {
        "id": "YVt7Z_hzRtIh",
        "colab_type": "code",
        "colab": {
          "base_uri": "https://localhost:8080/",
          "height": 510
        },
        "outputId": "282a9627-2c83-4490-b560-6dbf000fdec9"
      },
      "source": [
        "from sklearn.svm import LinearSVC\n",
        "from sklearn.pipeline import Pipeline\n",
        "from sklearn import metrics\n",
        "from sklearn.feature_extraction.text import CountVectorizer\n",
        "from sklearn.feature_extraction.text import TfidfTransformer\n",
        "from sklearn.datasets import fetch_20newsgroups\n",
        "\n",
        "newsgroups_train = fetch_20newsgroups(subset='train')\n",
        "newsgroups_test = fetch_20newsgroups(subset='test')\n",
        "X_train = newsgroups_train.data\n",
        "X_test = newsgroups_test.data\n",
        "y_train = newsgroups_train.target\n",
        "y_test = newsgroups_test.target\n",
        "\n",
        "text_clf = Pipeline([('vect', CountVectorizer()),\n",
        "                     ('tfidf', TfidfTransformer()),\n",
        "                     ('clf', LinearSVC()),\n",
        "                     ])\n",
        "\n",
        "text_clf.fit(X_train, y_train)\n",
        "\n",
        "\n",
        "predicted = text_clf.predict(X_test)\n",
        "\n",
        "print(metrics.classification_report(y_test, predicted))"
      ],
      "execution_count": 1,
      "outputs": [
        {
          "output_type": "stream",
          "text": [
            "Downloading 20news dataset. This may take a few minutes.\n",
            "Downloading dataset from https://ndownloader.figshare.com/files/5975967 (14 MB)\n"
          ],
          "name": "stderr"
        },
        {
          "output_type": "stream",
          "text": [
            "              precision    recall  f1-score   support\n",
            "\n",
            "           0       0.82      0.80      0.81       319\n",
            "           1       0.76      0.80      0.78       389\n",
            "           2       0.77      0.73      0.75       394\n",
            "           3       0.71      0.76      0.74       392\n",
            "           4       0.84      0.86      0.85       385\n",
            "           5       0.87      0.76      0.81       395\n",
            "           6       0.83      0.91      0.87       390\n",
            "           7       0.92      0.91      0.91       396\n",
            "           8       0.95      0.95      0.95       398\n",
            "           9       0.92      0.95      0.93       397\n",
            "          10       0.96      0.98      0.97       399\n",
            "          11       0.93      0.94      0.93       396\n",
            "          12       0.81      0.79      0.80       393\n",
            "          13       0.90      0.87      0.88       396\n",
            "          14       0.90      0.93      0.92       394\n",
            "          15       0.84      0.93      0.88       398\n",
            "          16       0.75      0.92      0.82       364\n",
            "          17       0.97      0.89      0.93       376\n",
            "          18       0.82      0.62      0.71       310\n",
            "          19       0.75      0.61      0.68       251\n",
            "\n",
            "    accuracy                           0.85      7532\n",
            "   macro avg       0.85      0.85      0.85      7532\n",
            "weighted avg       0.85      0.85      0.85      7532\n",
            "\n"
          ],
          "name": "stdout"
        }
      ]
    }
  ]
}