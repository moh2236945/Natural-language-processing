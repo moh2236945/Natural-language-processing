{
  "nbformat": 4,
  "nbformat_minor": 0,
  "metadata": {
    "colab": {
      "name": "k-nearest neighbors algorithm (kNN) .ipynb",
      "provenance": []
    },
    "kernelspec": {
      "name": "python3",
      "display_name": "Python 3"
    }
  },
  "cells": [
    {
      "cell_type": "code",
      "metadata": {
        "id": "8nPDxpdjZdjM",
        "colab_type": "code",
        "colab": {}
      },
      "source": [
        "import sklearn.neighbors\n",
        "from sklearn.datasets import fetch_20newsgroups\n",
        "from sklearn.feature_extraction.text import TfidfVectorizer\n",
        "from sklearn.metrics import accuracy_score\n",
        "from sklearn import model_selection"
      ],
      "execution_count": 0,
      "outputs": []
    },
    {
      "cell_type": "code",
      "metadata": {
        "id": "BseMe6tramaF",
        "colab_type": "code",
        "colab": {}
      },
      "source": [
        "cats = ['rec.sport.hockey', 'sci.crypt', 'sci.electronics', 'sci.space', 'rec.motorcycles', 'misc.forsale']\n",
        "newsgroups = fetch_20newsgroups(subset='all', categories=cats)\n",
        "vectorizer = TfidfVectorizer()\n",
        "X = vectorizer.fit_transform(newsgroups.data)\n",
        "y = newsgroups.target"
      ],
      "execution_count": 0,
      "outputs": []
    },
    {
      "cell_type": "code",
      "metadata": {
        "id": "729lRp9jbnZ5",
        "colab_type": "code",
        "colab": {}
      },
      "source": [
        "weights='uniform'\n",
        "clf=sklearn.neighbors.KNeighborsClassifier(n_neighbors=1,weights=weights)"
      ],
      "execution_count": 0,
      "outputs": []
    },
    {
      "cell_type": "code",
      "metadata": {
        "id": "hEzi-hm0cWKE",
        "colab_type": "code",
        "colab": {}
      },
      "source": [
        "def cross_validation(data, target, classifier, cv=5):\n",
        "    return sklearn.model_selection.cross_val_score(classifier, data, target, cv=cv)\n",
        "\n",
        "def test_classifier(X, y, clf, test_size=0.4, y_names=None):\n",
        "    # train-test split\n",
        "    print('test size is: %2.0f%%' % (test_size * 100))\n",
        "    X_train, X_test, y_train, y_test = sklearn.model_selection.train_test_split(X, y, test_size=test_size)\n",
        "    clf.fit(X_train, y_train)\n",
        "    y_predicted = clf.predict(X_test)\n",
        "    print (\"accuracy before cross-validation is %0.2f\" % accuracy_score(y_test, y_predicted))\n",
        "    scores = cross_validation(X, y, clf, cv=5)\n",
        "    print(\"Accuracy: %0.2f (+/- %0.2f)\" % (scores.mean(), scores.std() * 2))\n",
        "    print('Classification report:')\n",
        "    print(sklearn.metrics.classification_report(y_test, y_predicted, target_names=y_names))"
      ],
      "execution_count": 0,
      "outputs": []
    },
    {
      "cell_type": "code",
      "metadata": {
        "id": "rR44g466cYqX",
        "colab_type": "code",
        "colab": {
          "base_uri": "https://localhost:8080/",
          "height": 306
        },
        "outputId": "89005d01-de55-406b-dfc4-642e653ee113"
      },
      "source": [
        "test_classifier(X, y, clf, test_size=0.2, y_names=newsgroups.target_names)\n"
      ],
      "execution_count": 13,
      "outputs": [
        {
          "output_type": "stream",
          "text": [
            "test size is: 20%\n",
            "accuracy before cross-validation is 0.90\n",
            "Accuracy: 0.90 (+/- 0.02)\n",
            "Classification report:\n",
            "                  precision    recall  f1-score   support\n",
            "\n",
            "    misc.forsale       0.88      0.77      0.83       195\n",
            " rec.motorcycles       0.95      0.94      0.95       215\n",
            "rec.sport.hockey       0.92      0.98      0.95       197\n",
            "       sci.crypt       0.85      0.96      0.90       205\n",
            " sci.electronics       0.91      0.84      0.87       178\n",
            "       sci.space       0.90      0.91      0.91       197\n",
            "\n",
            "        accuracy                           0.90      1187\n",
            "       macro avg       0.90      0.90      0.90      1187\n",
            "    weighted avg       0.90      0.90      0.90      1187\n",
            "\n"
          ],
          "name": "stdout"
        }
      ]
    },
    {
      "cell_type": "markdown",
      "metadata": {
        "id": "6AG9jYzldjEn",
        "colab_type": "text"
      },
      "source": [
        "Another example for all the database"
      ]
    },
    {
      "cell_type": "code",
      "metadata": {
        "id": "a1BC3rLodnL2",
        "colab_type": "code",
        "colab": {
          "base_uri": "https://localhost:8080/",
          "height": 476
        },
        "outputId": "5022df7e-4ad7-429e-a456-5b9d3f9e46e6"
      },
      "source": [
        "from sklearn.neighbors import KNeighborsClassifier\n",
        "from sklearn.pipeline import Pipeline\n",
        "from sklearn import metrics\n",
        "from sklearn.feature_extraction.text import CountVectorizer\n",
        "from sklearn.feature_extraction.text import TfidfTransformer\n",
        "from sklearn.datasets import fetch_20newsgroups\n",
        "\n",
        "newsgroups_train = fetch_20newsgroups(subset='train')\n",
        "newsgroups_test = fetch_20newsgroups(subset='test')\n",
        "X_train = newsgroups_train.data\n",
        "X_test = newsgroups_test.data\n",
        "y_train = newsgroups_train.target\n",
        "y_test = newsgroups_test.target\n",
        "\n",
        "text_clf = Pipeline([('vect', CountVectorizer()),\n",
        "                     ('tfidf', TfidfTransformer()),\n",
        "                     ('clf', KNeighborsClassifier()),\n",
        "                     ])\n",
        "\n",
        "text_clf.fit(X_train, y_train)\n",
        "\n",
        "predicted = text_clf.predict(X_test)\n",
        "\n",
        "print(metrics.classification_report(y_test, predicted))"
      ],
      "execution_count": 14,
      "outputs": [
        {
          "output_type": "stream",
          "text": [
            "              precision    recall  f1-score   support\n",
            "\n",
            "           0       0.43      0.76      0.55       319\n",
            "           1       0.50      0.61      0.55       389\n",
            "           2       0.56      0.57      0.57       394\n",
            "           3       0.53      0.58      0.56       392\n",
            "           4       0.59      0.56      0.57       385\n",
            "           5       0.69      0.60      0.64       395\n",
            "           6       0.58      0.45      0.51       390\n",
            "           7       0.75      0.69      0.72       396\n",
            "           8       0.84      0.81      0.82       398\n",
            "           9       0.77      0.72      0.74       397\n",
            "          10       0.85      0.84      0.84       399\n",
            "          11       0.76      0.84      0.80       396\n",
            "          12       0.70      0.50      0.58       393\n",
            "          13       0.82      0.49      0.62       396\n",
            "          14       0.79      0.76      0.78       394\n",
            "          15       0.75      0.76      0.76       398\n",
            "          16       0.70      0.73      0.72       364\n",
            "          17       0.62      0.76      0.69       376\n",
            "          18       0.55      0.61      0.58       310\n",
            "          19       0.56      0.49      0.52       251\n",
            "\n",
            "    accuracy                           0.66      7532\n",
            "   macro avg       0.67      0.66      0.65      7532\n",
            "weighted avg       0.67      0.66      0.66      7532\n",
            "\n"
          ],
          "name": "stdout"
        }
      ]
    }
  ]
}