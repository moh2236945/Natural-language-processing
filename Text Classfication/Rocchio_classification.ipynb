{
  "nbformat": 4,
  "nbformat_minor": 0,
  "metadata": {
    "colab": {
      "name": "Rocchio classification.ipynb",
      "provenance": []
    },
    "kernelspec": {
      "name": "python3",
      "display_name": "Python 3"
    }
  },
  "cells": [
    {
      "cell_type": "code",
      "metadata": {
        "id": "QTLx83DFoBkS",
        "colab_type": "code",
        "colab": {}
      },
      "source": [
        "import numpy as np\n",
        "import pandas as pd\n",
        "from sklearn.feature_extraction.text import TfidfVectorizer\n",
        "from sklearn.metrics.pairwise import pairwise_distances\n",
        "from sklearn.preprocessing import LabelEncoder\n",
        "from sklearn.utils.multiclass import check_classification_targets\n",
        "from sklearn.datasets import fetch_20newsgroups\n",
        "from sklearn.model_selection import KFold"
      ],
      "execution_count": 0,
      "outputs": []
    },
    {
      "cell_type": "markdown",
      "metadata": {
        "id": "cz3KP2MQpWkn",
        "colab_type": "text"
      },
      "source": [
        "pairwise_distances\n",
        "Compute the distance matrix from a vector array X and optional Y"
      ]
    },
    {
      "cell_type": "markdown",
      "metadata": {
        "id": "F2fZQbq6qPsb",
        "colab_type": "text"
      },
      "source": [
        "sklearn.utils.multiclass.type_of_target(y)\n",
        " type is the most specific type that can be inferred. For example:\n",
        "binary is more specific but compatible with multiclass.\n",
        "multiclass of integers is more specific but compatible with continuous.\n",
        "multilabel-indicator is more specific but compatible with multiclass-multioutput."
      ]
    },
    {
      "cell_type": "code",
      "metadata": {
        "id": "kYT17gdzqYln",
        "colab_type": "code",
        "colab": {
          "base_uri": "https://localhost:8080/",
          "height": 51
        },
        "outputId": "71fc6588-6711-4cab-8736-c2b15397bdad"
      },
      "source": [
        "#hyper params\n",
        "cats = ['rec.sport.hockey', 'sci.crypt', 'sci.electronics', 'sci.space', 'rec.motorcycles', 'misc.forsale']\n",
        "newsgroups = fetch_20newsgroups(subset='train', categories=cats, remove=('headers', 'footers', 'quotes'))\n",
        "vectorizer = TfidfVectorizer()\n",
        "X = vectorizer.fit_transform(newsgroups.data)\n",
        "y = newsgroups.target\n",
        "metric = 'euclidean'"
      ],
      "execution_count": 3,
      "outputs": [
        {
          "output_type": "stream",
          "text": [
            "Downloading 20news dataset. This may take a few minutes.\n",
            "Downloading dataset from https://ndownloader.figshare.com/files/5975967 (14 MB)\n"
          ],
          "name": "stderr"
        }
      ]
    },
    {
      "cell_type": "code",
      "metadata": {
        "id": "Ts7cqEMIrMbJ",
        "colab_type": "code",
        "colab": {}
      },
      "source": [
        "check_classification_targets(y)\n",
        "n_samples, n_features = X.shape\n",
        "le = LabelEncoder()\n",
        "y_indices = le.fit_transform(y)\n",
        "classes = le.classes_\n",
        "n_classes = classes.size\n",
        "# Mask mapping each class to its members.\n",
        "centroids = np.empty((n_classes, n_features), dtype=np.float64)\n",
        "# Number of clusters in each class.\n",
        "n_cluster = np.zeros(n_classes)\n",
        "\n",
        "for current_class in range(n_classes):\n",
        "    center_mask = y_indices == current_class\n",
        "    n_cluster[current_class] = np.sum(center_mask)\n",
        "    centroids[current_class] = X[center_mask].mean(axis=0)"
      ],
      "execution_count": 0,
      "outputs": []
    },
    {
      "cell_type": "code",
      "metadata": {
        "id": "WkA_oMa2scGp",
        "colab_type": "code",
        "colab": {}
      },
      "source": [
        "def get_vectorizer_array(query):\n",
        "    return vectorizer.transform([query]).toarray()\n",
        "def pred(X):\n",
        "    return classes[pairwise_distances(X, centroids, metric=metric).argmin(axis=1)]"
      ],
      "execution_count": 0,
      "outputs": []
    },
    {
      "cell_type": "code",
      "metadata": {
        "id": "yrpn2ygushhe",
        "colab_type": "code",
        "colab": {
          "base_uri": "https://localhost:8080/",
          "height": 34
        },
        "outputId": "88c1ff76-b295-438a-8cff-ecd6f1b3b3e5"
      },
      "source": [
        "newsgroups_test = fetch_20newsgroups(subset='test', categories=cats, remove=('headers', 'footers', 'quotes'))\n",
        "x_testdata = newsgroups_test.data\n",
        "y_test = newsgroups_test.target\n",
        "testdata = [[a_, b_] for a_, b_ in zip(x_testdata, y_test)]\n",
        "\n",
        "correct = sum(str(pred(get_vectorizer_array(testcase[0]))[0]) == str(testcase[1]) for testcase in testdata)\n",
        "\n",
        "# Print the accurency in percentage\n",
        "result = str(correct / len(testdata) * 100) + \" %\"\n",
        "\n",
        "print(\"Accuracy before K-Folding: %s\" % result)"
      ],
      "execution_count": 11,
      "outputs": [
        {
          "output_type": "stream",
          "text": [
            "Accuracy before K-Folding: 70.80168776371309 %\n"
          ],
          "name": "stdout"
        }
      ]
    },
    {
      "cell_type": "code",
      "metadata": {
        "id": "psq6hNjsslwe",
        "colab_type": "code",
        "colab": {
          "base_uri": "https://localhost:8080/",
          "height": 119
        },
        "outputId": "1f2ade78-7548-4fdd-b6c7-85ed7171add7"
      },
      "source": [
        "import numpy as np\n",
        "newsgroups = fetch_20newsgroups(subset='all', categories=cats, remove=('headers', 'footers', 'quotes'))\n",
        "X = np.asarray(newsgroups.data)\n",
        "y = np.asarray(newsgroups.target)\n",
        "print(X.shape)\n",
        "K = 5\n",
        "kf =  KFold(n_splits=K)\n",
        "for train_index, test_index in kf.split(X):\n",
        "    X_train, X_test = vectorizer.fit_transform(X[train_index]), X[test_index]\n",
        "    y_train, y_test = y[train_index], y[test_index]\n",
        "    \n",
        "    n_samples, n_features = X_train.shape\n",
        "    le = LabelEncoder()\n",
        "    y_indices = le.fit_transform(y_train)\n",
        "    classes = le.classes_\n",
        "    n_classes = classes.size\n",
        "\n",
        "    # Mask mapping each class to its members.\n",
        "    centroids = np.empty((n_classes, n_features), dtype=np.float64)\n",
        "    # Number of clusters in each class.\n",
        "    n_cluster = np.zeros(n_classes)\n",
        "    for current_class in range(n_classes):\n",
        "        center_mask = y_indices == current_class\n",
        "        n_cluster[current_class] = np.sum(center_mask)\n",
        "        centroids[current_class] = X_train[center_mask].mean(axis=0)\n",
        "    \n",
        "    \n",
        "    testdata = [[a_, b_] for a_, b_ in zip(X_test, y_test)]\n",
        "\n",
        "    correct = sum(str(pred(get_vectorizer_array(testcase[0]))[0]) == str(testcase[1]) for testcase in testdata)\n",
        "\n",
        "    # Print the accurency in percentage\n",
        "    result = str(correct / len(testdata) * 100) + \"%\"\n",
        "\n",
        "    print(\"Accuracy after %d-Folding: %s\" %( K, result))"
      ],
      "execution_count": 12,
      "outputs": [
        {
          "output_type": "stream",
          "text": [
            "(5932,)\n",
            "Accuracy after 5-Folding: 71.44060657118787%\n",
            "Accuracy after 5-Folding: 72.03032855939342%\n",
            "Accuracy after 5-Folding: 73.10286677908938%\n",
            "Accuracy after 5-Folding: 72.76559865092749%\n",
            "Accuracy after 5-Folding: 72.93423271500843%\n"
          ],
          "name": "stdout"
        }
      ]
    },
    {
      "cell_type": "markdown",
      "metadata": {
        "id": "CmeOhWeGYAZ1",
        "colab_type": "text"
      },
      "source": [
        "Another Example"
      ]
    },
    {
      "cell_type": "code",
      "metadata": {
        "id": "_8uun9QotaTE",
        "colab_type": "code",
        "colab": {
          "base_uri": "https://localhost:8080/",
          "height": 530
        },
        "outputId": "ee32f1c0-a5eb-4bd1-e8ac-5cd6d29df7ee"
      },
      "source": [
        "from sklearn.neighbors.nearest_centroid import NearestCentroid\n",
        "from sklearn.pipeline import Pipeline\n",
        "from sklearn import metrics\n",
        "from sklearn.feature_extraction.text import CountVectorizer\n",
        "from sklearn.feature_extraction.text import TfidfTransformer\n",
        "from sklearn.datasets import fetch_20newsgroups\n",
        "\n",
        "newsgroups_train = fetch_20newsgroups(subset='train')\n",
        "newsgroups_test = fetch_20newsgroups(subset='test')\n",
        "X_train = newsgroups_train.data\n",
        "X_test = newsgroups_test.data\n",
        "y_train = newsgroups_train.target\n",
        "y_test = newsgroups_test.target\n",
        "\n",
        "text_clf = Pipeline([('vect', CountVectorizer()),\n",
        "                     ('tfidf', TfidfTransformer()),\n",
        "                     ('clf', NearestCentroid()),\n",
        "                     ])\n",
        "\n",
        "text_clf.fit(X_train, y_train)\n",
        "\n",
        "\n",
        "predicted = text_clf.predict(X_test)\n",
        "\n",
        "print(metrics.classification_report(y_test, predicted))"
      ],
      "execution_count": 13,
      "outputs": [
        {
          "output_type": "stream",
          "text": [
            "/usr/local/lib/python3.6/dist-packages/sklearn/utils/deprecation.py:144: FutureWarning: The sklearn.neighbors.nearest_centroid module is  deprecated in version 0.22 and will be removed in version 0.24. The corresponding classes / functions should instead be imported from sklearn.neighbors. Anything that cannot be imported from sklearn.neighbors is now part of the private API.\n",
            "  warnings.warn(message, FutureWarning)\n"
          ],
          "name": "stderr"
        },
        {
          "output_type": "stream",
          "text": [
            "              precision    recall  f1-score   support\n",
            "\n",
            "           0       0.75      0.49      0.60       319\n",
            "           1       0.44      0.76      0.56       389\n",
            "           2       0.75      0.68      0.71       394\n",
            "           3       0.71      0.59      0.65       392\n",
            "           4       0.81      0.71      0.76       385\n",
            "           5       0.83      0.66      0.74       395\n",
            "           6       0.49      0.88      0.63       390\n",
            "           7       0.86      0.76      0.80       396\n",
            "           8       0.91      0.86      0.89       398\n",
            "           9       0.85      0.79      0.82       397\n",
            "          10       0.95      0.80      0.87       399\n",
            "          11       0.94      0.66      0.78       396\n",
            "          12       0.40      0.70      0.51       393\n",
            "          13       0.84      0.49      0.62       396\n",
            "          14       0.89      0.72      0.80       394\n",
            "          15       0.55      0.73      0.63       398\n",
            "          16       0.68      0.76      0.71       364\n",
            "          17       0.97      0.70      0.81       376\n",
            "          18       0.54      0.53      0.53       310\n",
            "          19       0.58      0.39      0.47       251\n",
            "\n",
            "    accuracy                           0.69      7532\n",
            "   macro avg       0.74      0.68      0.69      7532\n",
            "weighted avg       0.74      0.69      0.70      7532\n",
            "\n"
          ],
          "name": "stdout"
        }
      ]
    }
  ]
}